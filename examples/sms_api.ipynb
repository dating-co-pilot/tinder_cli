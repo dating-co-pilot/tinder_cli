{
 "cells": [
  {
   "cell_type": "code",
   "execution_count": 2,
   "metadata": {},
   "outputs": [],
   "source": [
    "from tinder_cli.api import TinderClient, TinderSMSAuth"
   ]
  },
  {
   "cell_type": "code",
   "execution_count": 3,
   "metadata": {},
   "outputs": [],
   "source": [
    "phone_number = \"YOUR_PHONE_NUMBER\"  # ex. +48123456789\n",
    "auth_cli = TinderSMSAuth(phone_number=phone_number)\n",
    "auth_cli.request_otp_sms()"
   ]
  },
  {
   "cell_type": "code",
   "execution_count": null,
   "metadata": {},
   "outputs": [],
   "source": [
    "SMS_CODE = \"RECEIVED_SMS_CODE\"\n",
    "auth_cli.get_refresh_token(SMS_CODE)\n",
    "auth_token = auth_cli.get_auth_token()"
   ]
  },
  {
   "cell_type": "code",
   "execution_count": 5,
   "metadata": {},
   "outputs": [],
   "source": [
    "tinder_cli = TinderClient(auth_token)"
   ]
  },
  {
   "cell_type": "code",
   "execution_count": 7,
   "metadata": {},
   "outputs": [
    {
     "name": "stdout",
     "output_type": "stream",
     "text": [
      "([Match(match_id='6357111eff7012010085c0ae640cc933e5862301003760f6', profile_id='6357111eff7012010085c0ae'), Match(match_id='5c26b1c5cbbd97160a27fd69640cc933e5862301003760f6', profile_id='5c26b1c5cbbd97160a27fd69'), Match(match_id='64060ee17a2fd0010069b859640cc933e5862301003760f6', profile_id='64060ee17a2fd0010069b859'), Match(match_id='59e667e3ff77d28b0b6f30c0640cc933e5862301003760f6', profile_id='59e667e3ff77d28b0b6f30c0'), Match(match_id='62ffad4bc27c2b01006af253640cc933e5862301003760f6', profile_id='62ffad4bc27c2b01006af253'), Match(match_id='6275563dc757310100e5207c640cc933e5862301003760f6', profile_id='6275563dc757310100e5207c')], None)\n"
     ]
    }
   ],
   "source": [
    "matches, next_page_token = tinder_cli.get_matches()\n",
    "print(matches)"
   ]
  }
 ],
 "metadata": {
  "kernelspec": {
   "display_name": "dcp-tinder_cli",
   "language": "python",
   "name": "python3"
  },
  "language_info": {
   "codemirror_mode": {
    "name": "ipython",
    "version": 3
   },
   "file_extension": ".py",
   "mimetype": "text/x-python",
   "name": "python",
   "nbconvert_exporter": "python",
   "pygments_lexer": "ipython3",
   "version": "3.10.8"
  },
  "orig_nbformat": 4
 },
 "nbformat": 4,
 "nbformat_minor": 2
}
